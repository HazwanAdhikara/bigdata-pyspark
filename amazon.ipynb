{
 "cells": [
  {
   "cell_type": "markdown",
   "id": "fc1a0e1c",
   "metadata": {},
   "source": [
    "# Big Data & Data Lakehouse 2025 (A)\n",
    "\n",
    "| Nama                     | NRP        |\n",
    "| ------------------------ | ---------- |\n",
    "| Hazwan Adhikara Nasution | 5027231017 |\n",
    "| Rafael Gunawan           | 5027231019 |\n",
    "\n",
    "**Dataset**\n",
    "Amazon UK Products Dataset 2023 (2.2M Products), Size (651,1 MB)\n",
    "\n",
    "link: https://www.kaggle.com/datasets/asaniczka/amazon-uk-products-dataset-2023/data?select=amz_uk_processed_data.csv\n"
   ]
  },
  {
   "cell_type": "markdown",
   "id": "90340a91",
   "metadata": {},
   "source": [
    "**Data Column:**\n",
    "\n",
    "- **asin**\n",
    "Product ID from Amazon. (type:str)\n",
    "\n",
    "- **title**\n",
    "Title of the product. (type:str)\n",
    "\n",
    "- **imgUrl**\n",
    "Url of the product image. (type:str)\n",
    "\n",
    "- **productURL**\n",
    "Url of the product. (type:str)\n",
    "\n",
    "- **stars**\n",
    "Product rating. If 0, no ratings were found. (type:float)\n",
    "\n",
    "- **reviews**\n",
    "Number of reviews. If 0, no reviews were found. (type:int)\n",
    "\n",
    "- **price**\n",
    "Buy now price of the product. If 0, price was unavailable. (type:float, currency: GBP)\n",
    "\n",
    "- **isBestSeller**\n",
    "Whether the product had the Amazon BestSeller status or not. (type:bool)\n",
    "\n",
    "- **boughtInLastMonth**\n",
    "Number of products sold last month according to Amazon. (type: int)\n",
    "\n",
    "- **categoryName**\n",
    "Name of the category this product belonged to\n",
    "\n"
   ]
  },
  {
   "cell_type": "markdown",
   "id": "b1374324",
   "metadata": {},
   "source": []
  }
 ],
 "metadata": {
  "kernelspec": {
   "display_name": "Python 3",
   "language": "python",
   "name": "python3"
  },
  "language_info": {
   "name": "python",
   "version": "3.12.0"
  }
 },
 "nbformat": 4,
 "nbformat_minor": 5
}
